{
 "cells": [
  {
   "cell_type": "code",
   "execution_count": 1,
   "id": "fdfeee20-ce51-4053-9fda-a9053f79a2eb",
   "metadata": {},
   "outputs": [],
   "source": [
    "import os \n",
    "from pathlib import Path\n",
    "from typing import Tuple\n",
    "\n",
    "import torch\n",
    "import torch.nn as nn\n",
    "import torch.nn.functional as F\n",
    "import torch.optim as optim\n",
    "from torch.utils.data import Dataset\n",
    "import torchaudio\n",
    "\n",
    "import pandas as pd\n",
    "import numpy as np"
   ]
  },
  {
   "cell_type": "code",
   "execution_count": 2,
   "id": "c3ac718c-8ea0-46da-a600-41298d721c64",
   "metadata": {},
   "outputs": [
    {
     "name": "stdout",
     "output_type": "stream",
     "text": [
      "cuda\n"
     ]
    }
   ],
   "source": [
    "device = torch.device(\"cuda\" if torch.cuda.is_available() else \"cpu\")\n",
    "print(device)"
   ]
  },
  {
   "cell_type": "code",
   "execution_count": 36,
   "id": "cfe9e7ad-eb68-453c-b431-f1ee243becd0",
   "metadata": {},
   "outputs": [
    {
     "name": "stdout",
     "output_type": "stream",
     "text": [
      "../Audios/Sarcasmo/Audio_99.mp3\n",
      "Sarcasmo\n"
     ]
    }
   ],
   "source": [
    "walker=sorted(str(p) for p in Path('../Audios').glob(f'*/*'))\n",
    "print(walker[-1])\n",
    "print(walker[-1].split('/')[-2])"
   ]
  },
  {
   "cell_type": "code",
   "execution_count": 16,
   "id": "07411821-84e0-411a-a0b1-cbd9913eebca",
   "metadata": {},
   "outputs": [],
   "source": [
    "def load_audio_item(filepath: str, path: str, label_name: str) -> Tuple[torch.Tensor, int, str, str]:\n",
    "    relpath = os.path.relpath(filepath, path)\n",
    "    label, filename = os.path.split(relpath)\n",
    "    if label_name is not None:\n",
    "        label = label_name\n",
    "    waveform, sample_rate = torchaudio.load(filepath)\n",
    "    return waveform, sample_rate, label, filename"
   ]
  },
  {
   "cell_type": "code",
   "execution_count": 37,
   "id": "d0c64413-fcbf-4d2e-ba85-c15e37099dfe",
   "metadata": {},
   "outputs": [
    {
     "name": "stdout",
     "output_type": "stream",
     "text": [
      "Audio_1.mp3\n"
     ]
    }
   ],
   "source": [
    "waveform, sample_rate, label, filename =  load_audio_item(walker[0], '../Audios', walker[0].split('/')[-2])\n",
    "print(filename)"
   ]
  },
  {
   "cell_type": "code",
   "execution_count": 63,
   "id": "fa6d3227-ec4c-4e70-b3aa-5fcc8ff2ce41",
   "metadata": {},
   "outputs": [],
   "source": [
    "class SarcasmDataset(Dataset):\n",
    "    \n",
    "    def __init__(self, file_path: str):\n",
    "        self.file_path=file_path \n",
    "        \n",
    "        walker = sorted(str(p) for p in Path(self.file_path).glob(f'*/*'))\n",
    "        self.walker = list(walker)\n",
    "        \n",
    "    def __getitem__(self, n: int) -> Tuple[torch.Tensor, int, str, str]:\n",
    "        fileid = self.walker[n]\n",
    "        label= self.walker[n].split('/')[-2]\n",
    "        \n",
    "        waveform, sample_rate, label, filename =  load_audio_item(fileid, self.file_path, label)\n",
    "        \n",
    "        return waveform, sample_rate, label, filename\n",
    "    \n",
    "    def __len__(self) -> int:\n",
    "        return len(self.walker)"
   ]
  },
  {
   "cell_type": "code",
   "execution_count": 64,
   "id": "23e970e0-1c63-48cb-88cb-e38617937acf",
   "metadata": {},
   "outputs": [],
   "source": [
    "data=SarcasmDataset('../Audios')"
   ]
  },
  {
   "cell_type": "code",
   "execution_count": 65,
   "id": "6465de6a-f39b-4bea-a77e-44bbc83964bf",
   "metadata": {},
   "outputs": [
    {
     "name": "stdout",
     "output_type": "stream",
     "text": [
      "<__main__.SarcasmDataset object at 0x7f8357bba070>\n"
     ]
    }
   ],
   "source": [
    "print(data)"
   ]
  },
  {
   "cell_type": "code",
   "execution_count": 66,
   "id": "ad9ddf6d-676f-49a4-8c1c-4e9d852db830",
   "metadata": {},
   "outputs": [],
   "source": [
    "train_loader = torch.utils.data.DataLoader(data)"
   ]
  },
  {
   "cell_type": "code",
   "execution_count": 67,
   "id": "5b162e7d-3db6-4efc-aef5-5951ea331e14",
   "metadata": {},
   "outputs": [
    {
     "name": "stdout",
     "output_type": "stream",
     "text": [
      "('Normal',)\n",
      "('Normal',)\n",
      "('Normal',)\n",
      "('Normal',)\n",
      "('Normal',)\n",
      "('Normal',)\n",
      "('Normal',)\n",
      "('Normal',)\n",
      "('Normal',)\n",
      "('Normal',)\n",
      "('Normal',)\n",
      "('Normal',)\n",
      "('Normal',)\n",
      "('Normal',)\n",
      "('Normal',)\n",
      "('Normal',)\n",
      "('Normal',)\n",
      "('Normal',)\n",
      "('Normal',)\n",
      "('Normal',)\n",
      "('Normal',)\n",
      "('Normal',)\n",
      "('Normal',)\n",
      "('Normal',)\n",
      "('Normal',)\n",
      "('Normal',)\n",
      "('Normal',)\n",
      "('Normal',)\n",
      "('Normal',)\n",
      "('Normal',)\n",
      "('Normal',)\n",
      "('Normal',)\n",
      "('Normal',)\n",
      "('Normal',)\n",
      "('Normal',)\n",
      "('Normal',)\n",
      "('Normal',)\n",
      "('Normal',)\n",
      "('Normal',)\n",
      "('Normal',)\n",
      "('Normal',)\n",
      "('Normal',)\n",
      "('Normal',)\n",
      "('Normal',)\n",
      "('Normal',)\n",
      "('Normal',)\n",
      "('Normal',)\n",
      "('Normal',)\n",
      "('Normal',)\n",
      "('Normal',)\n",
      "('Normal',)\n",
      "('Normal',)\n",
      "('Normal',)\n",
      "('Normal',)\n",
      "('Normal',)\n",
      "('Normal',)\n",
      "('Normal',)\n",
      "('Normal',)\n",
      "('Normal',)\n",
      "('Normal',)\n",
      "('Normal',)\n",
      "('Normal',)\n",
      "('Normal',)\n",
      "('Normal',)\n",
      "('Normal',)\n",
      "('Normal',)\n",
      "('Normal',)\n",
      "('Normal',)\n",
      "('Normal',)\n",
      "('Normal',)\n",
      "('Normal',)\n",
      "('Normal',)\n",
      "('Normal',)\n",
      "('Normal',)\n",
      "('Normal',)\n",
      "('Normal',)\n",
      "('Normal',)\n",
      "('Normal',)\n",
      "('Normal',)\n",
      "('Normal',)\n",
      "('Normal',)\n",
      "('Normal',)\n",
      "('Normal',)\n",
      "('Normal',)\n",
      "('Normal',)\n",
      "('Normal',)\n",
      "('Normal',)\n",
      "('Normal',)\n",
      "('Normal',)\n",
      "('Normal',)\n",
      "('Normal',)\n",
      "('Normal',)\n",
      "('Normal',)\n",
      "('Normal',)\n",
      "('Normal',)\n",
      "('Normal',)\n",
      "('Normal',)\n",
      "('Normal',)\n",
      "('Normal',)\n",
      "('Normal',)\n",
      "('Normal',)\n",
      "('Sarcasmo',)\n",
      "('Sarcasmo',)\n",
      "('Sarcasmo',)\n",
      "('Sarcasmo',)\n",
      "('Sarcasmo',)\n",
      "('Sarcasmo',)\n",
      "('Sarcasmo',)\n",
      "('Sarcasmo',)\n",
      "('Sarcasmo',)\n",
      "('Sarcasmo',)\n",
      "('Sarcasmo',)\n",
      "('Sarcasmo',)\n",
      "('Sarcasmo',)\n",
      "('Sarcasmo',)\n",
      "('Sarcasmo',)\n",
      "('Sarcasmo',)\n",
      "('Sarcasmo',)\n",
      "('Sarcasmo',)\n",
      "('Sarcasmo',)\n",
      "('Sarcasmo',)\n",
      "('Sarcasmo',)\n",
      "('Sarcasmo',)\n",
      "('Sarcasmo',)\n",
      "('Sarcasmo',)\n",
      "('Sarcasmo',)\n",
      "('Sarcasmo',)\n",
      "('Sarcasmo',)\n",
      "('Sarcasmo',)\n",
      "('Sarcasmo',)\n",
      "('Sarcasmo',)\n",
      "('Sarcasmo',)\n",
      "('Sarcasmo',)\n",
      "('Sarcasmo',)\n",
      "('Sarcasmo',)\n",
      "('Sarcasmo',)\n",
      "('Sarcasmo',)\n",
      "('Sarcasmo',)\n",
      "('Sarcasmo',)\n",
      "('Sarcasmo',)\n",
      "('Sarcasmo',)\n",
      "('Sarcasmo',)\n",
      "('Sarcasmo',)\n",
      "('Sarcasmo',)\n",
      "('Sarcasmo',)\n",
      "('Sarcasmo',)\n",
      "('Sarcasmo',)\n",
      "('Sarcasmo',)\n",
      "('Sarcasmo',)\n",
      "('Sarcasmo',)\n",
      "('Sarcasmo',)\n",
      "('Sarcasmo',)\n",
      "('Sarcasmo',)\n",
      "('Sarcasmo',)\n",
      "('Sarcasmo',)\n",
      "('Sarcasmo',)\n",
      "('Sarcasmo',)\n",
      "('Sarcasmo',)\n",
      "('Sarcasmo',)\n",
      "('Sarcasmo',)\n",
      "('Sarcasmo',)\n",
      "('Sarcasmo',)\n",
      "('Sarcasmo',)\n",
      "('Sarcasmo',)\n",
      "('Sarcasmo',)\n",
      "('Sarcasmo',)\n",
      "('Sarcasmo',)\n",
      "('Sarcasmo',)\n",
      "('Sarcasmo',)\n",
      "('Sarcasmo',)\n",
      "('Sarcasmo',)\n",
      "('Sarcasmo',)\n",
      "('Sarcasmo',)\n",
      "('Sarcasmo',)\n",
      "('Sarcasmo',)\n",
      "('Sarcasmo',)\n",
      "('Sarcasmo',)\n",
      "('Sarcasmo',)\n",
      "('Sarcasmo',)\n",
      "('Sarcasmo',)\n",
      "('Sarcasmo',)\n",
      "('Sarcasmo',)\n",
      "('Sarcasmo',)\n",
      "('Sarcasmo',)\n",
      "('Sarcasmo',)\n",
      "('Sarcasmo',)\n",
      "('Sarcasmo',)\n",
      "('Sarcasmo',)\n",
      "('Sarcasmo',)\n",
      "('Sarcasmo',)\n",
      "('Sarcasmo',)\n",
      "('Sarcasmo',)\n",
      "('Sarcasmo',)\n",
      "('Sarcasmo',)\n",
      "('Sarcasmo',)\n",
      "('Sarcasmo',)\n",
      "('Sarcasmo',)\n",
      "('Sarcasmo',)\n",
      "('Sarcasmo',)\n",
      "('Sarcasmo',)\n",
      "('Sarcasmo',)\n",
      "('Sarcasmo',)\n",
      "('Sarcasmo',)\n",
      "('Sarcasmo',)\n",
      "('Sarcasmo',)\n",
      "('Sarcasmo',)\n",
      "('Sarcasmo',)\n"
     ]
    }
   ],
   "source": [
    "for data, target in enumerate(train_loader):\n",
    "    print(target[2])"
   ]
  },
  {
   "cell_type": "code",
   "execution_count": null,
   "id": "148ccf3b-98ea-48ec-9509-fbdaee411437",
   "metadata": {},
   "outputs": [],
   "source": []
  }
 ],
 "metadata": {
  "kernelspec": {
   "display_name": "Python 3 (ipykernel)",
   "language": "python",
   "name": "python3"
  },
  "language_info": {
   "codemirror_mode": {
    "name": "ipython",
    "version": 3
   },
   "file_extension": ".py",
   "mimetype": "text/x-python",
   "name": "python",
   "nbconvert_exporter": "python",
   "pygments_lexer": "ipython3",
   "version": "3.9.7"
  }
 },
 "nbformat": 4,
 "nbformat_minor": 5
}
