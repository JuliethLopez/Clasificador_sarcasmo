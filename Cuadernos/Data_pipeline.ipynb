{
 "cells": [
  {
   "cell_type": "code",
   "execution_count": 1,
   "id": "fdfeee20-ce51-4053-9fda-a9053f79a2eb",
   "metadata": {},
   "outputs": [],
   "source": [
    "import os \n",
    "from pathlib import Path\n",
    "from typing import Tuple\n",
    "\n",
    "import torch\n",
    "import torch.nn as nn\n",
    "import torch.nn.functional as F\n",
    "import torch.optim as optim\n",
    "from torch.utils.data import Dataset\n",
    "import torchaudio\n",
    "\n",
    "import pandas as pd\n",
    "import numpy as np"
   ]
  },
  {
   "cell_type": "code",
   "execution_count": 2,
   "id": "c3ac718c-8ea0-46da-a600-41298d721c64",
   "metadata": {},
   "outputs": [
    {
     "name": "stdout",
     "output_type": "stream",
     "text": [
      "cuda\n"
     ]
    }
   ],
   "source": [
    "device = torch.device(\"cuda\" if torch.cuda.is_available() else \"cpu\")\n",
    "print(device)"
   ]
  },
  {
   "cell_type": "code",
   "execution_count": 3,
   "id": "fa6d3227-ec4c-4e70-b3aa-5fcc8ff2ce41",
   "metadata": {},
   "outputs": [],
   "source": [
    "class SarcasmDataset(Dataset):\n",
    "    \n",
    "    def __init__(self, file_path: str):\n",
    "        self.file_path=file_path \n",
    "        \n",
    "        walker = sorted(str(p) for p in Path(self.file_path).glob(f'*/*'))\n",
    "        self.walker = list(walker)\n",
    "        \n",
    "        \n",
    "    def __getitem__(self, n: int) -> Tuple[torch.Tensor, str]:\n",
    "        fileid = self.walker[n]\n",
    "        label= self.walker[n].split('/')[-2]\n",
    "        \n",
    "        relpath = os.path.relpath(fileid, self.file_path)\n",
    "        label, filename = os.path.split(relpath)\n",
    "        waveform, sample_rate = torchaudio.load(fileid)\n",
    "        \n",
    "        return waveform, label\n",
    "    \n",
    "    def __len__(self) -> int:\n",
    "        return len(self.walker)"
   ]
  },
  {
   "cell_type": "code",
   "execution_count": 4,
   "id": "9569ef17-788b-48f6-9839-f70deab56328",
   "metadata": {},
   "outputs": [],
   "source": [
    "data=SarcasmDataset('../Audios')"
   ]
  },
  {
   "cell_type": "code",
   "execution_count": 5,
   "id": "5b162e7d-3db6-4efc-aef5-5951ea331e14",
   "metadata": {},
   "outputs": [],
   "source": [
    "train_len=int(len(data)*0.8)\n",
    "val_len=int(len(data)*0.2)\n",
    "\n",
    "train_set, val_set=torch.utils.data.random_split(data, [train_len, val_len+1])"
   ]
  },
  {
   "cell_type": "code",
   "execution_count": 6,
   "id": "148ccf3b-98ea-48ec-9509-fbdaee411437",
   "metadata": {},
   "outputs": [],
   "source": [
    "kwargs = {'num_workers': 1, 'pin_memory': True} if device == 'cuda' else {}\n",
    "\n",
    "train_loader = torch.utils.data.DataLoader(train_set,shuffle = True, **kwargs)\n",
    "val_loader = torch.utils.data.DataLoader(val_set,shuffle = True, **kwargs)"
   ]
  },
  {
   "cell_type": "code",
   "execution_count": null,
   "id": "98d8c7d7-8afc-4f73-8074-5c39212717cd",
   "metadata": {},
   "outputs": [],
   "source": []
  }
 ],
 "metadata": {
  "kernelspec": {
   "display_name": "Python 3 (ipykernel)",
   "language": "python",
   "name": "python3"
  },
  "language_info": {
   "codemirror_mode": {
    "name": "ipython",
    "version": 3
   },
   "file_extension": ".py",
   "mimetype": "text/x-python",
   "name": "python",
   "nbconvert_exporter": "python",
   "pygments_lexer": "ipython3",
   "version": "3.9.7"
  }
 },
 "nbformat": 4,
 "nbformat_minor": 5
}
